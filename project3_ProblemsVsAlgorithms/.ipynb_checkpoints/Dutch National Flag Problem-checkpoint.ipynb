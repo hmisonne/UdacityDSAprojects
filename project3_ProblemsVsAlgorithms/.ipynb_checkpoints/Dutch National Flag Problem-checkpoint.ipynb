{
 "cells": [
  {
   "cell_type": "code",
   "execution_count": 32,
   "metadata": {},
   "outputs": [
    {
     "name": "stdout",
     "output_type": "stream",
     "text": [
      "sorting the array: [0, 0, 2, 2, 2, 1, 1, 1, 2, 0, 2]\n",
      "new array: [0, 0, 0, 1, 1, 1, 2, 2, 2, 2, 2]\n",
      "Pass\n",
      "sorting the array: [2, 1, 2, 0, 0, 2, 1, 0, 1, 0, 0, 2, 2, 2, 1, 2, 0, 0, 0, 2, 1, 0, 2, 0, 0, 1]\n",
      "new array: [0, 0, 0, 0, 0, 0, 0, 0, 0, 0, 0, 1, 1, 1, 1, 1, 1, 2, 2, 2, 2, 2, 2, 2, 2, 2]\n",
      "Pass\n",
      "sorting the array: [0, 0, 0, 0, 0, 0, 1, 1, 1, 1, 1, 1, 2, 2, 2, 2, 2, 2, 2]\n",
      "new array: [0, 0, 0, 0, 0, 0, 1, 1, 1, 1, 1, 1, 2, 2, 2, 2, 2, 2, 2]\n",
      "Pass\n",
      "sorting the array: [0]\n",
      "new array: [0]\n",
      "Pass\n",
      "sorting the array: []\n",
      "new array: []\n",
      "Pass\n",
      "sorting the array: None\n",
      "None input returns None\n"
     ]
    }
   ],
   "source": [
    "def sort_012(input_list):\n",
    "    \"\"\"\n",
    "    Given an input array consisting on only 0, 1, and 2, sort the array in a single traversal.\n",
    "\n",
    "    Args:\n",
    "       input_list(list): List to be sorted\n",
    "    \"\"\"\n",
    "    if input_list == None:\n",
    "        return None\n",
    "    index_next0 = 0\n",
    "    index_next2 = len(input_list)-1\n",
    "    index = 0\n",
    "    while index <= index_next2:\n",
    "        element = input_list[index]\n",
    "        if element == 0:\n",
    "            input_list[index] = input_list[index_next0]\n",
    "            input_list[index_next0] = 0\n",
    "            index_next0 += 1\n",
    "            index += 1\n",
    "\n",
    "        elif element == 2:\n",
    "            input_list[index] = input_list[index_next2]\n",
    "            input_list[index_next2] = 2\n",
    "            index_next2 -= 1\n",
    "        else:\n",
    "            index += 1\n",
    "        \n",
    "    return input_list\n",
    "\n",
    "def test_function(test_case):\n",
    "    print('sorting the array: {}'.format(test_case))\n",
    "    sorted_array = sort_012(test_case)\n",
    "    if sorted_array == None:\n",
    "        print('None input returns None')\n",
    "    else:\n",
    "        print('new array: {}'.format(sorted_array))\n",
    "        if sorted_array == sorted(test_case):\n",
    "            print(\"Pass\")\n",
    "        else:\n",
    "            print(\"Fail\")\n",
    "\n",
    "test_function([0, 0, 2, 2, 2, 1, 1, 1, 2, 0, 2])\n",
    "test_function([2, 1, 2, 0, 0, 2, 1, 0, 1, 0, 0, 2, 2, 2, 1, 2, 0, 0, 0, 2, 1, 0, 2, 0, 0, 1])\n",
    "test_function([0, 0, 0, 0, 0, 0, 1, 1, 1, 1, 1, 1, 2, 2, 2, 2, 2, 2, 2])\n",
    "test_function([0])\n",
    "test_function([])\n",
    "test_function(None)"
   ]
  },
  {
   "cell_type": "code",
   "execution_count": null,
   "metadata": {},
   "outputs": [],
   "source": []
  }
 ],
 "metadata": {
  "kernelspec": {
   "display_name": "Python 3",
   "language": "python",
   "name": "python3"
  },
  "language_info": {
   "codemirror_mode": {
    "name": "ipython",
    "version": 3
   },
   "file_extension": ".py",
   "mimetype": "text/x-python",
   "name": "python",
   "nbconvert_exporter": "python",
   "pygments_lexer": "ipython3",
   "version": "3.7.3"
  }
 },
 "nbformat": 4,
 "nbformat_minor": 2
}
