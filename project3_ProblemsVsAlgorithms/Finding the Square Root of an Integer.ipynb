{
 "cells": [
  {
   "cell_type": "code",
   "execution_count": 90,
   "metadata": {},
   "outputs": [
    {
     "name": "stdout",
     "output_type": "stream",
     "text": [
      "Pass: Square Root of 9 equals to 3\n",
      "Pass: Square Root of 1 equals to 1\n",
      "Pass: Square Root of 27 equals to 5\n",
      "Pass: Square Root of 30 equals to 5\n",
      "Pass: Square Root of -2 equals to invalid input\n",
      "Pass: Square Root of None equals to invalid input\n"
     ]
    }
   ],
   "source": [
    "def sqrt(number):\n",
    "    \"\"\"\n",
    "    Calculate the floored square root of a number\n",
    "\n",
    "    Args:\n",
    "       number(int): Number to find the floored squared root\n",
    "    Returns:\n",
    "       int: Floored Square Root\n",
    "    \"\"\"\n",
    "    if number == 0 or number == 1 :\n",
    "        return number\n",
    "    if number == None or number == '' or number < 0:\n",
    "        return 'invalid input'\n",
    "        \n",
    "    first = 1\n",
    "    last = number // 2\n",
    "   \n",
    "    while last >= first:\n",
    "        mid = (last + first) // 2 \n",
    "        if mid * mid == number:\n",
    "            return mid\n",
    "        elif mid * mid > number:\n",
    "            last = mid - 1\n",
    "        elif mid * mid < number:\n",
    "            first = mid + 1\n",
    "            result = mid\n",
    "    return result\n",
    "        \n",
    "def test(number, expected_result):\n",
    "    if sqrt(number) == expected_result:\n",
    "        print(\"Pass: Square Root of {} equals to {}\".format(number, expected_result))\n",
    "    else:\n",
    "        print(\"Fail: Expected Result: {} Vs: {}\".format(expected_result, sqrt(number)))\n",
    "\n",
    "test(9,3) # Pass\n",
    "test(1,1) # Pass\n",
    "test(27,5) # Pass\n",
    "test(30,5) # Pass\n",
    "test(-2,'invalid input') # Pass\n",
    "test(None,'invalid input') # Pass\n"
   ]
  },
  {
   "cell_type": "code",
   "execution_count": null,
   "metadata": {},
   "outputs": [],
   "source": []
  }
 ],
 "metadata": {
  "kernelspec": {
   "display_name": "Python 3",
   "language": "python",
   "name": "python3"
  },
  "language_info": {
   "codemirror_mode": {
    "name": "ipython",
    "version": 3
   },
   "file_extension": ".py",
   "mimetype": "text/x-python",
   "name": "python",
   "nbconvert_exporter": "python",
   "pygments_lexer": "ipython3",
   "version": "3.7.3"
  }
 },
 "nbformat": 4,
 "nbformat_minor": 2
}
