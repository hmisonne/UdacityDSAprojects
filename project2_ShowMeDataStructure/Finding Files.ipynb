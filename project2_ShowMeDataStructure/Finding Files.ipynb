{
 "cells": [
  {
   "cell_type": "code",
   "execution_count": 45,
   "metadata": {},
   "outputs": [
    {
     "name": "stdout",
     "output_type": "stream",
     "text": [
      "Files with the suffix: .hfff on path ./testdir\n",
      "No files matching this suffix\n",
      "Files with the suffix: .h on path ./testdir\n",
      "./testdir\\t1.h\n",
      "./testdir\\subdir1\\a.h\n",
      "./testdir\\subdir3\\subsubdir1\\b.h\n",
      "./testdir\\subdir5\\a.h\n",
      "Files with the suffix: None on path ./testdir\n",
      "A path/suffix needs to be specified\n"
     ]
    }
   ],
   "source": [
    "import os\n",
    "def recursive_find_files(path, suffix, output = []):\n",
    "#     Build a list of paths of the element that ends with a particular suffix\n",
    "#     And a list of subfolders\n",
    "    if path == None or suffix == None:\n",
    "        return ('A path/suffix needs to be specified')\n",
    "        \n",
    "    listdir = os.listdir(path)\n",
    "    subfolders = []\n",
    "    for element in listdir:\n",
    "        if os.path.isfile(os.path.join(path,element)):\n",
    "            if element.endswith(suffix):\n",
    "                output.append(os.path.join(path,element))\n",
    "        else:\n",
    "            subfolders.append(os.path.join(path,element))\n",
    "                    \n",
    "#     Base case: No subdirectory in current directory\n",
    "    if len(subfolders) == 0:\n",
    "        return output\n",
    "    else:\n",
    "#    Visit all subfolders and return the output list\n",
    "        for subfolder in subfolders:\n",
    "            output = recursive_find_files(subfolder,suffix, output)\n",
    "        if output == []:\n",
    "            return 'No files matching this suffix'\n",
    "        return output\n",
    "    \n",
    "    \n",
    "def find_files(suffix, path):\n",
    "    \"\"\"\n",
    "    Find all files beneath path with file name suffix.\n",
    "\n",
    "    Note that a path may contain further subdirectories\n",
    "    and those subdirectories may also contain further subdirectories.\n",
    "\n",
    "    There are no limit to the depth of the subdirectories can be.\n",
    "\n",
    "    Args:\n",
    "      suffix(str): suffix if the file name to be found\n",
    "      path(str): path of the file system\n",
    "\n",
    "    Returns:\n",
    "       a list of paths\n",
    "    \"\"\"\n",
    "\n",
    "    return recursive_find_files(path, suffix)\n",
    "\n",
    "\n",
    "\n",
    "\n",
    "def test(suffix, path):\n",
    "    results = find_files(suffix, path)\n",
    "    print('Files with the suffix: {} on path {}'.format(suffix, path))\n",
    "    if results == 'No files matching this suffix':\n",
    "        print('No files matching this suffix')\n",
    "    elif results == 'A path/suffix needs to be specified':\n",
    "        print('A path/suffix needs to be specified')\n",
    "    else:\n",
    "        for file in results:\n",
    "            print(file)\n",
    "\n",
    "test(\".hfff\", \"./testdir\") # Expected output: No files matching this suffix\n",
    "test(\".h\", \"./testdir\") # Expected output: [list of paths]\n",
    "test(None, \"./testdir\") # Expected output: A path/suffix needs to be specified\n"
   ]
  },
  {
   "cell_type": "code",
   "execution_count": null,
   "metadata": {},
   "outputs": [],
   "source": []
  }
 ],
 "metadata": {
  "kernelspec": {
   "display_name": "Python 3",
   "language": "python",
   "name": "python3"
  },
  "language_info": {
   "codemirror_mode": {
    "name": "ipython",
    "version": 3
   },
   "file_extension": ".py",
   "mimetype": "text/x-python",
   "name": "python",
   "nbconvert_exporter": "python",
   "pygments_lexer": "ipython3",
   "version": "3.7.3"
  }
 },
 "nbformat": 4,
 "nbformat_minor": 2
}
