{
 "cells": [
  {
   "cell_type": "code",
   "execution_count": 22,
   "metadata": {},
   "outputs": [],
   "source": [
    "class Group(object):\n",
    "    def __init__(self, _name):\n",
    "        self.name = _name\n",
    "        self.groups = []\n",
    "        self.users = []\n",
    "\n",
    "    def add_group(self, group):\n",
    "        self.groups.append(group)\n",
    "\n",
    "    def add_user(self, user):\n",
    "        self.users.append(user)\n",
    "\n",
    "    def get_groups(self):\n",
    "        return self.groups\n",
    "\n",
    "    def get_users(self):\n",
    "        return self.users\n",
    "\n",
    "    def get_name(self):\n",
    "        return self.name\n",
    "\n",
    "\n"
   ]
  },
  {
   "cell_type": "code",
   "execution_count": 74,
   "metadata": {},
   "outputs": [],
   "source": [
    "def is_user_in_group(user, group):\n",
    "    \"\"\"\n",
    "    Return True if user is in the group, False otherwise.\n",
    "\n",
    "    Args:\n",
    "      user(str): user name/id\n",
    "      group(class:Group): group to check user membership against\n",
    "    \"\"\"\n",
    "    users = group.get_users()\n",
    "    if user in users:\n",
    "        return True\n",
    "    elif group.get_groups() == [] :\n",
    "        return False\n",
    "    else:\n",
    "        subgroups = group.get_groups()\n",
    "        for subgroup in subgroups:\n",
    "            if is_user_in_group(user,subgroup ) == True:\n",
    "                return True\n",
    "        return False\n",
    "\n",
    "        \n"
   ]
  },
  {
   "cell_type": "code",
   "execution_count": 105,
   "metadata": {},
   "outputs": [],
   "source": [
    "parent = Group(\"parent\")\n",
    "child = Group(\"child\")\n",
    "sub_child = Group(\"subchild\")\n",
    "sub_child2 = Group(\"subchild2\")\n",
    "sub_child_user = \"sub_child_user\"\n",
    "sub_child2.add_user(sub_child_user)\n",
    "child.add_group(sub_child)\n",
    "child.add_group(sub_child2)\n",
    "parent.add_group(child)\n",
    "\n",
    "def test(user, group, expected_output):\n",
    "    if is_user_in_group(user, group) == expected_output:\n",
    "        if expected_output == False:\n",
    "            print('Pass: {} not in {} group'.format(user, group.get_name()))\n",
    "        else:\n",
    "            print('Pass: {} in {} group'.format(user, group.get_name()))\n",
    "    else:\n",
    "        print('Fail')"
   ]
  },
  {
   "cell_type": "code",
   "execution_count": 111,
   "metadata": {},
   "outputs": [
    {
     "name": "stdout",
     "output_type": "stream",
     "text": [
      "Pass: sub_child_user in parent group\n",
      "Pass: sub_child_user in subchild2 group\n",
      "Pass: Not a user not in parent group\n",
      "Pass:  not in parent group\n",
      "Pass: None not in parent group\n",
      "Pass: sub_child_user not in subchild group\n"
     ]
    }
   ],
   "source": [
    "test(sub_child_user, parent, True)\n",
    "test(sub_child_user, sub_child2, True)\n",
    "test('Not a user', parent, False)\n",
    "test('', parent, False)\n",
    "test(None, parent, False)\n",
    "test(sub_child_user, sub_child, False)"
   ]
  },
  {
   "cell_type": "code",
   "execution_count": null,
   "metadata": {},
   "outputs": [],
   "source": []
  },
  {
   "cell_type": "code",
   "execution_count": null,
   "metadata": {},
   "outputs": [],
   "source": []
  }
 ],
 "metadata": {
  "kernelspec": {
   "display_name": "Python 3",
   "language": "python",
   "name": "python3"
  },
  "language_info": {
   "codemirror_mode": {
    "name": "ipython",
    "version": 3
   },
   "file_extension": ".py",
   "mimetype": "text/x-python",
   "name": "python",
   "nbconvert_exporter": "python",
   "pygments_lexer": "ipython3",
   "version": "3.7.3"
  }
 },
 "nbformat": 4,
 "nbformat_minor": 2
}
