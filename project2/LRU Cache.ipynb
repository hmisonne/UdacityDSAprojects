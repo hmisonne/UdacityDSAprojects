{
 "cells": [
  {
   "cell_type": "code",
   "execution_count": 141,
   "metadata": {},
   "outputs": [],
   "source": [
    "class Node():\n",
    "    def __init__(self, key = None):\n",
    "        self.key = key\n",
    "        self.next = None\n",
    "        self.previous = None\n",
    "        \n",
    "class Bucket():\n",
    "    def __init__(self, value, ref_to_dll):\n",
    "        self.value = value\n",
    "        self.ref_to_dll = ref_to_dll\n",
    "        \n",
    "class HashTable():\n",
    "    \n",
    "    def __init__(self, capacity = 10):\n",
    "        self.content = [None for _ in range(capacity)]\n",
    "        self.capacity = capacity\n",
    "        self.num_entries = 0\n",
    "    \n",
    "    def put(self, key, value, ref_to_dll):\n",
    "        hash_code = self.get_hash_code(key)\n",
    "        new_node = Bucket(value, ref_to_dll)\n",
    "        self.content[hash_code] = new_node\n",
    "\n",
    "    def get(self, key):\n",
    "        index = self.get_index(key)\n",
    "        if index >= self.capacity:\n",
    "            return -1\n",
    "        else:\n",
    "            bucket = self.content[index]\n",
    "            if bucket == None:\n",
    "                return -1\n",
    "            else:\n",
    "                return bucket\n",
    "        \n",
    "    def remove(self, key):\n",
    "        self.content[key] = None\n",
    "    \n",
    "    def get_index(self, key):\n",
    "        return self.get_hash_code(key)\n",
    "    \n",
    "    def get_hash_code(self, key):\n",
    "        hash_code = key\n",
    "        return hash_code\n",
    "\n",
    "class DoublyLinkedList():\n",
    "    def __init__(self):\n",
    "        self.head = None\n",
    "        self.tail = None\n",
    "        \n",
    "    def add_to_front(self, key):   \n",
    "        node = Node(key)\n",
    "        if self.head == None:\n",
    "            self.head = node\n",
    "            self.tail = node\n",
    "        else:\n",
    "            self.head.previous = node\n",
    "            node.next = self.head\n",
    "            self.head = node\n",
    "        return node\n",
    "    \n",
    "    def move_to_front(self, node):\n",
    "        if node == self.head:\n",
    "            return\n",
    "        elif node == self.tail:\n",
    "            self.remove_last()\n",
    "        else:\n",
    "            self.remove_node(node)\n",
    "        return self.add_to_front(node.key)\n",
    "    \n",
    "    def remove_node(self, node):\n",
    "        before_node = node.previous\n",
    "        after_node = node.next\n",
    "        before_node.next = after_node\n",
    "        after_node.previous = before_node\n",
    "        \n",
    "    def remove_last(self):\n",
    "        last_node = self.tail\n",
    "        self.tail = last_node.previous\n",
    "        self.tail.next = None\n",
    "        return last_node.key\n",
    "    \n",
    "    def print_ll(self):\n",
    "        node = self.head\n",
    "        llist = []\n",
    "        while node is not None:\n",
    "            llist.append(node.key)\n",
    "            node = node.next\n",
    "        return llist\n",
    "\n",
    "class LRU_Cache(object):\n",
    "\n",
    "    def __init__(self, capacity):\n",
    "        self.capacity = capacity\n",
    "        self.count_of_elements = 0\n",
    "        self.hashtable = HashTable()\n",
    "        self.dlinkedlist = DoublyLinkedList()\n",
    "\n",
    "    def get(self, key):\n",
    "#         Check if in HashTable \n",
    "        result = self.hashtable.get(key)\n",
    "        if result == -1 :\n",
    "            return -1\n",
    "        else:\n",
    "            new_node = self.dlinkedlist.move_to_front(result.ref_to_dll)\n",
    "            self.hashtable.put(key, result.value, new_node)\n",
    "            return result.value\n",
    "\n",
    "\n",
    "    def set(self, key, value):\n",
    "        if key == None:\n",
    "            return\n",
    "        if self.get(key) == -1:\n",
    "            if self.count_of_elements < self.capacity:\n",
    "                self.count_of_elements += 1\n",
    "            else:\n",
    "                key_to_remove = self.dlinkedlist.remove_last()\n",
    "                self.hashtable.remove(key_to_remove)\n",
    "        node = self.dlinkedlist.add_to_front(key)\n",
    "        self.hashtable.put(key, value, node)\n",
    "        \n"
   ]
  },
  {
   "cell_type": "code",
   "execution_count": 159,
   "metadata": {},
   "outputs": [],
   "source": [
    "def test_function(capacity, input_list, expected_output, test_details):\n",
    "    our_cache = LRU_Cache(capacity)\n",
    "    print(\"Initialize cache with capacity: {}\".format(capacity))\n",
    "    for key, value in input_list:\n",
    "        print(\"Set {}:{}\".format(key, value))\n",
    "        our_cache.set(key, value)\n",
    "    linked_list = our_cache.dlinkedlist.print_ll()\n",
    "    if linked_list == expected_output:\n",
    "        print(test_details+': Pass {}'.format(linked_list))\n",
    "    else:\n",
    "        print(test_details+': Fail {}'.format(linked_list))\n",
    "\n",
    "def test_function2(capacity, input_list, get_element, expected_output, test_details):\n",
    "    our_cache = LRU_Cache(capacity)\n",
    "    print(\"Initialize cache with capacity: {}\".format(capacity))\n",
    "    for key, value in input_list:\n",
    "        print(\"Set {}:{}\".format(key, value))\n",
    "        our_cache.set(key, value)\n",
    "    if our_cache.get(get_element) == expected_output:\n",
    "        print(test_details+': Pass, Return {} for get({})'.format(expected_output,key))\n",
    "    else:\n",
    "        print(test_details+': Fail, Actual: {} Vs Expected: {}'.format(our_cache.get(get_element),expected_output))\n",
    "        \n",
    "def test_function3(capacity, input_list, get_list, expected_output, test_details):\n",
    "    our_cache = LRU_Cache(capacity)\n",
    "    print(\"Initialize cache with capacity: {}\".format(capacity))\n",
    "    for key, value in input_list:\n",
    "        print(\"Set {}:{}\".format(key, value))\n",
    "        our_cache.set(key, value)\n",
    "    for key in get_list:\n",
    "        print(\"Get {} - {}\".format(key, our_cache.get(key)))\n",
    "        our_cache.get(key)\n",
    "    linked_list = our_cache.dlinkedlist.print_ll()\n",
    "    if linked_list == expected_output:\n",
    "        print(test_details+': Pass')\n",
    "    else:\n",
    "        print(test_details+': Fail')\n"
   ]
  },
  {
   "cell_type": "code",
   "execution_count": 160,
   "metadata": {},
   "outputs": [
    {
     "name": "stdout",
     "output_type": "stream",
     "text": [
      "Initialize cache with capacity: 5\n",
      "Set 1:1\n",
      "Set 2:2\n",
      "Set 3:3\n",
      "Set 4:4\n",
      "Create a new linked list that keeps track of the last element set: Pass [4, 3, 2, 1]\n"
     ]
    }
   ],
   "source": [
    "        \n",
    "test_details = \"Create a new linked list that keeps track of the last element set\"\n",
    "input_list = [(1, 1),(2, 2),(3, 3),(4, 4)]\n",
    "expected_output = [4,3,2,1]\n",
    "capacity = 5\n",
    "test_function(capacity, input_list, expected_output, test_details)\n",
    "\n"
   ]
  },
  {
   "cell_type": "code",
   "execution_count": 161,
   "metadata": {},
   "outputs": [],
   "source": [
    "# our_cache = LRU_Cache(5)\n",
    "\n",
    "# our_cache.set(1, 1);\n",
    "# our_cache.set(2, 2);\n",
    "# our_cache.set(3, 3);\n",
    "# our_cache.set(4, 4);\n",
    "\n",
    "# print('our_cache.get(1)',our_cache.get(1)) # returns 1\n",
    "# print('our_cache.get(2)',our_cache.get(2)) # returns 2\n",
    "# print('our_cache.get(9)',our_cache.get(9)) # returns -1 because 9 is not present in the cache\n",
    "   \n",
    "# # print(our_cache.hashtable.content)\n",
    "\n",
    "# our_cache.set(5, 5) \n",
    "# our_cache.set(6, 6)\n",
    "# print(our_cache.dlinkedlist.print_ll())\n",
    "# our_cache.get(3)      # returns -1 because the cache reached it's capacity and 3 was the least recently used entry\n",
    "# print(our_cache.hashtable.content)"
   ]
  },
  {
   "cell_type": "code",
   "execution_count": 162,
   "metadata": {},
   "outputs": [
    {
     "name": "stdout",
     "output_type": "stream",
     "text": [
      "Initialize cache with capacity: 5\n",
      "Set 1:1\n",
      "Set None:2\n",
      "Set 3:3\n",
      "Set 4:4\n",
      "Handles None input: Pass [4, 3, 1]\n"
     ]
    }
   ],
   "source": [
    "test_details = \"Handles None input\"\n",
    "input_list = [(1, 1),(None, 2),(3, 3),(4, 4)]\n",
    "expected_output = [4,3,1]\n",
    "capacity = 5\n",
    "test_function(capacity, input_list, expected_output, test_details)\n",
    "\n"
   ]
  },
  {
   "cell_type": "code",
   "execution_count": 163,
   "metadata": {},
   "outputs": [
    {
     "name": "stdout",
     "output_type": "stream",
     "text": [
      "Initialize cache with capacity: 5\n",
      "Set 1:1\n",
      "Set 2:2\n",
      "Set 3:3\n",
      "Set 4:4\n",
      "Set 5:5\n",
      "Set 6:6\n",
      "Set 7:7\n",
      "Discard old values when capacity is reached: Pass [7, 6, 5, 4, 3]\n"
     ]
    }
   ],
   "source": [
    "\n",
    "test_details = \"Discard old values when capacity is reached\"\n",
    "input_list = [(1, 1),(2, 2),(3, 3),(4, 4),(5,5),(6,6),(7,7)]\n",
    "expected_output = [7,6,5,4,3]\n",
    "capacity = 5\n",
    "test_function(capacity, input_list, expected_output, test_details)        \n"
   ]
  },
  {
   "cell_type": "code",
   "execution_count": 164,
   "metadata": {},
   "outputs": [
    {
     "name": "stdout",
     "output_type": "stream",
     "text": [
      "Initialize cache with capacity: 5\n",
      "Set 1:1\n",
      "Set 2:2\n",
      "Set 3:3\n",
      "Set 4:4\n",
      "Handles cache miss: Pass, Return -1 for get(4)\n"
     ]
    }
   ],
   "source": [
    "\n",
    "test_details= 'Handles cache miss'\n",
    "input_list = [(1, 1),(2, 2),(3, 3),(4, 4)]\n",
    "get_element = 15\n",
    "expected_output = -1\n",
    "capacity = 5\n",
    "test_function2(capacity, input_list, get_element, expected_output, test_details)\n"
   ]
  },
  {
   "cell_type": "code",
   "execution_count": 165,
   "metadata": {},
   "outputs": [
    {
     "name": "stdout",
     "output_type": "stream",
     "text": [
      "Initialize cache with capacity: 5\n",
      "Set 1:1\n",
      "Set 2:2\n",
      "Set 3:3\n",
      "Set 4:4\n",
      "Retrieve proper value when cache hit: Pass, Return 4 for get(4)\n"
     ]
    }
   ],
   "source": [
    "\n",
    "test_details= 'Retrieve proper value when cache hit'\n",
    "input_list = [(1, 1),(2, 2),(3, 3),(4, 4)]\n",
    "get_element = 4\n",
    "expected_output = 4\n",
    "capacity = 5\n",
    "test_function2(capacity, input_list, get_element, expected_output, test_details)\n"
   ]
  },
  {
   "cell_type": "code",
   "execution_count": 158,
   "metadata": {},
   "outputs": [
    {
     "name": "stdout",
     "output_type": "stream",
     "text": [
      "Initialize cache with capacity: 5\n",
      "Set 1:1\n",
      "Set 2:2\n",
      "Set 3:3\n",
      "Set 4:4\n",
      "Get 2 - 2\n",
      "Get 1 - 1\n",
      "Update Linked List with most recently used: Pass\n"
     ]
    }
   ],
   "source": [
    "\n",
    "test_details= 'Update Linked List with most recently used'\n",
    "input_list = [(1, 1),(2, 2),(3, 3),(4, 4)]\n",
    "get_list = [2,1]\n",
    "expected_output = [1,2,4,3]\n",
    "capacity = 5\n",
    "test_function3(capacity, input_list, get_list, expected_output, test_details)\n",
    "\n",
    "\n"
   ]
  },
  {
   "cell_type": "code",
   "execution_count": null,
   "metadata": {},
   "outputs": [],
   "source": []
  }
 ],
 "metadata": {
  "kernelspec": {
   "display_name": "Python 3",
   "language": "python",
   "name": "python3"
  },
  "language_info": {
   "codemirror_mode": {
    "name": "ipython",
    "version": 3
   },
   "file_extension": ".py",
   "mimetype": "text/x-python",
   "name": "python",
   "nbconvert_exporter": "python",
   "pygments_lexer": "ipython3",
   "version": "3.7.3"
  }
 },
 "nbformat": 4,
 "nbformat_minor": 2
}
