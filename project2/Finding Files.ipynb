{
 "cells": [
  {
   "cell_type": "code",
   "execution_count": 26,
   "metadata": {},
   "outputs": [
    {
     "name": "stdout",
     "output_type": "stream",
     "text": [
      "['./testdir\\\\t1.h', './testdir\\\\subdir1\\\\a.h', './testdir\\\\subdir3\\\\subsubdir1\\\\b.h', './testdir\\\\subdir5\\\\a.h']\n"
     ]
    }
   ],
   "source": [
    "import os\n",
    "def recursive_find_files(path, suffix, output = []):\n",
    "#     Build a list of paths of the element that ends with a particular suffix\n",
    "#     And a list of subfolders\n",
    "    listdir = os.listdir(path)\n",
    "    subfolders = []\n",
    "    for element in listdir:\n",
    "        if os.path.isfile(os.path.join(path,element)):\n",
    "            if element.endswith(suffix):\n",
    "                output.append(os.path.join(path,element))\n",
    "        else:\n",
    "            subfolders.append(os.path.join(path,element))\n",
    "                    \n",
    "#     Base case: No subdirectory in current directory\n",
    "    if len(subfolders) == 0:\n",
    "        return output\n",
    "    else:\n",
    "#    Visit all subfolders and return the output list\n",
    "        for subfolder in subfolders:\n",
    "            output = recursive_find_files(subfolder,suffix, output)\n",
    "        return output\n",
    "    \n",
    "    \n",
    "def find_files(suffix, path):\n",
    "    \"\"\"\n",
    "    Find all files beneath path with file name suffix.\n",
    "\n",
    "    Note that a path may contain further subdirectories\n",
    "    and those subdirectories may also contain further subdirectories.\n",
    "\n",
    "    There are no limit to the depth of the subdirectories can be.\n",
    "\n",
    "    Args:\n",
    "      suffix(str): suffix if the file name to be found\n",
    "      path(str): path of the file system\n",
    "\n",
    "    Returns:\n",
    "       a list of paths\n",
    "    \"\"\"\n",
    "\n",
    "    return recursive_find_files(path, suffix)\n",
    "\n",
    "\n",
    "suffix = \".h\"\n",
    "path = \"./testdir\"\n",
    "print(find_files(suffix, path))"
   ]
  },
  {
   "cell_type": "code",
   "execution_count": null,
   "metadata": {},
   "outputs": [],
   "source": []
  }
 ],
 "metadata": {
  "kernelspec": {
   "display_name": "Python 3",
   "language": "python",
   "name": "python3"
  },
  "language_info": {
   "codemirror_mode": {
    "name": "ipython",
    "version": 3
   },
   "file_extension": ".py",
   "mimetype": "text/x-python",
   "name": "python",
   "nbconvert_exporter": "python",
   "pygments_lexer": "ipython3",
   "version": "3.7.3"
  }
 },
 "nbformat": 4,
 "nbformat_minor": 2
}
