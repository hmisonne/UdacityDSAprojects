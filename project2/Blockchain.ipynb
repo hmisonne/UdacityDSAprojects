{
 "cells": [
  {
   "cell_type": "code",
   "execution_count": 59,
   "metadata": {},
   "outputs": [],
   "source": [
    "import hashlib\n",
    "import datetime\n",
    "\n",
    "\n",
    "class Block:\n",
    "\n",
    "    def __init__(self, data, previous_hash):\n",
    "        self.timestamp = str(datetime.datetime.utcnow())\n",
    "        self.data = data\n",
    "        self.previous_hash = previous_hash\n",
    "        self.hash = self.calc_hash(self.timestamp, self.data, self.previous_hash)\n",
    "        self.next = None \n",
    "    \n",
    "    def calc_hash(self, timestamp, data, previous_hash):\n",
    "        block_content = timestamp + str(data) + str(previous_hash)\n",
    "        sha = hashlib.sha256()\n",
    "        hash_str = block_content.encode('utf-8')\n",
    "\n",
    "        sha.update(hash_str)\n",
    "        return sha.hexdigest()[-10:]\n",
    "    \n",
    "    def get_hash(self):\n",
    "        return self.hash\n",
    "    def get_previous_hash(self):\n",
    "        return self.previous_hash\n",
    "    \n",
    "class Blockchain():\n",
    "    \n",
    "    def __init__(self, head=None, tail=None):\n",
    "        self.head = head\n",
    "        self.tail = tail\n",
    "    def add_block(self, data, previous_hash):\n",
    "        if data == None:\n",
    "            return None\n",
    "        new_block = Block(data, previous_hash)\n",
    "        if self.head == None:\n",
    "            self.head = new_block\n",
    "            self.tail = self.head\n",
    "        else:\n",
    "            self.tail.next = new_block\n",
    "            self.tail = new_block\n",
    "    def get_last_hash(self):\n",
    "        if self.tail == None:\n",
    "            return '00000'\n",
    "        return self.tail.get_hash()\n",
    "    def is_chain_valid(self):\n",
    "        node = self.head\n",
    "        previous_hash = '00000'\n",
    "        while node:\n",
    "            if node.get_previous_hash() != previous_hash:\n",
    "                return False\n",
    "            previous_hash = node.get_hash()\n",
    "            node = node.next\n",
    "        return True\n",
    "\n",
    "    def __iter__(self):\n",
    "        node = self.head\n",
    "        while node:\n",
    "            yield ['Data :{}, SHA256 Hash: {}, Previous Hash: {}, Timestamp: {}'.format(node.data, node.hash, node.previous_hash, node.timestamp)]\n",
    "            node = node.next\n",
    "    def __repr__(self):\n",
    "        return str([v for v in self])\n",
    "\n",
    "\n"
   ]
  },
  {
   "cell_type": "code",
   "execution_count": 63,
   "metadata": {},
   "outputs": [
    {
     "name": "stdout",
     "output_type": "stream",
     "text": [
      "Pass: blockchain is Valid\n",
      "[['Data :100000, SHA256 Hash: 3534485566, Previous Hash: 00000, Timestamp: 2020-02-08 00:24:07.250068'], ['Data :20, SHA256 Hash: 3ae94c3fa4, Previous Hash: 3534485566, Timestamp: 2020-02-08 00:24:07.250068'], ['Data :45, SHA256 Hash: f928f53b53, Previous Hash: 3ae94c3fa4, Timestamp: 2020-02-08 00:24:07.250068'], ['Data :80, SHA256 Hash: 3639fb44ed, Previous Hash: f928f53b53, Timestamp: 2020-02-08 00:24:07.250068'], ['Data :2, SHA256 Hash: d653286939, Previous Hash: 3639fb44ed, Timestamp: 2020-02-08 00:24:07.250068']]\n",
      "Pass: blockchain is Valid\n",
      "[['Data :10, SHA256 Hash: 2d22debbb6, Previous Hash: 00000, Timestamp: 2020-02-08 00:24:07.250068'], ['Data :20, SHA256 Hash: 33993b0915, Previous Hash: 2d22debbb6, Timestamp: 2020-02-08 00:24:07.250068'], ['Data :45, SHA256 Hash: 85bb866d4c, Previous Hash: 33993b0915, Timestamp: 2020-02-08 00:24:07.250068'], ['Data :80, SHA256 Hash: 1ceab22d6c, Previous Hash: 85bb866d4c, Timestamp: 2020-02-08 00:24:07.250068'], ['Data :2, SHA256 Hash: 2c887ceafe, Previous Hash: 1ceab22d6c, Timestamp: 2020-02-08 00:24:07.250068']]\n",
      "Pass: blockchain is Valid\n",
      "[['Data :10, SHA256 Hash: 2d22debbb6, Previous Hash: 00000, Timestamp: 2020-02-08 00:24:07.250068'], ['Data :20, SHA256 Hash: 33993b0915, Previous Hash: 2d22debbb6, Timestamp: 2020-02-08 00:24:07.250068'], ['Data :45, SHA256 Hash: 85bb866d4c, Previous Hash: 33993b0915, Timestamp: 2020-02-08 00:24:07.250068'], ['Data :80, SHA256 Hash: 1ceab22d6c, Previous Hash: 85bb866d4c, Timestamp: 2020-02-08 00:24:07.250068'], ['Data :, SHA256 Hash: 9ff41dce2f, Previous Hash: 1ceab22d6c, Timestamp: 2020-02-08 00:24:07.250068'], ['Data :2, SHA256 Hash: a4be7e4708, Previous Hash: 9ff41dce2f, Timestamp: 2020-02-08 00:24:07.250068']]\n"
     ]
    }
   ],
   "source": [
    "def test(newblocks):\n",
    "    myblockchain = Blockchain()\n",
    "    for blockdata in newblocks:\n",
    "        previous_hash = myblockchain.get_last_hash()\n",
    "        myblockchain.add_block(blockdata, previous_hash)\n",
    "\n",
    "    if myblockchain.is_chain_valid():\n",
    "        print('Pass: blockchain is Valid')\n",
    "    else:\n",
    "        print('Fail: blockchain is not Valid')\n",
    "    print(myblockchain)   \n",
    "test([100000,20,45,80,None,2]) # Expected output: blockchain is Valid\n",
    "test([10,20,45,80,None,2]) # Expected output: blockchain is Valid, None block not added to the blockchain\n",
    "test([10,20,45,80,'',2]) # Expected output: blockchain is Valid"
   ]
  },
  {
   "cell_type": "code",
   "execution_count": null,
   "metadata": {},
   "outputs": [],
   "source": []
  }
 ],
 "metadata": {
  "kernelspec": {
   "display_name": "Python 3",
   "language": "python",
   "name": "python3"
  },
  "language_info": {
   "codemirror_mode": {
    "name": "ipython",
    "version": 3
   },
   "file_extension": ".py",
   "mimetype": "text/x-python",
   "name": "python",
   "nbconvert_exporter": "python",
   "pygments_lexer": "ipython3",
   "version": "3.7.3"
  }
 },
 "nbformat": 4,
 "nbformat_minor": 2
}
