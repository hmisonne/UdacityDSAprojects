{
 "cells": [
  {
   "cell_type": "code",
   "execution_count": 24,
   "metadata": {},
   "outputs": [
    {
     "name": "stdout",
     "output_type": "stream",
     "text": [
      "Test for array: [4, 9, 3, 8, 6, 0, 5, 7, 2, 1]\n",
      "Pass: tuple found: (0, 9)\n",
      "Test for array: [1, 7, 2, 5, 4, 0, 8, 6, 3, 9]\n",
      "Pass: tuple found: (0, 9)\n",
      "Test for array: [5, 4, 2]\n",
      "Pass: tuple found: (2, 5)\n",
      "Test for array: [5]\n",
      "Pass: tuple found: (5, 5)\n",
      "Test for array: []\n",
      "Incorrect value\n",
      "Test for array: None\n",
      "Incorrect value\n"
     ]
    }
   ],
   "source": [
    "def get_min_max(ints):\n",
    "    \"\"\"\n",
    "    Return a tuple(min, max) out of list of unsorted integers.\n",
    "\n",
    "    Args:\n",
    "       ints(list): list of integers containing one or more integers\n",
    "    \"\"\"\n",
    "    if ints == None or len(ints) == 0:\n",
    "        return None\n",
    "    if len(ints) == 1:\n",
    "        min_number = ints[0]\n",
    "        max_number = ints[0]\n",
    "    else:\n",
    "        if ints[0] < ints[1]:\n",
    "            min_number = ints[0]\n",
    "            max_number = ints[1]\n",
    "        else:\n",
    "            min_number = ints[1]\n",
    "            max_number = ints[0]\n",
    "    for number in ints[2:]:\n",
    "        if number < min_number:\n",
    "            min_number = number\n",
    "        elif number > max_number:\n",
    "            max_number = number\n",
    "    return (min_number, max_number)\n",
    "\n",
    "## Example Test Case of Ten Integers\n",
    "import random\n",
    "\n",
    "\n",
    "def test_random(l):\n",
    "    print('Test for array: {}'.format(l))\n",
    "    print (\"Pass: tuple found: {}\".format(get_min_max(l)) if ((0, 9) == get_min_max(l)) else \"Fail\")\n",
    "def test(l):\n",
    "    print('Test for array: {}'.format(l))\n",
    "    if get_min_max(l) == None:\n",
    "        print('Incorrect value')\n",
    "    else:\n",
    "        print (\"Pass: tuple found: {}\".format(get_min_max(l)) if (min(l) == get_min_max(l)[0] and max(l) ==get_min_max(l)[1] ) else \"Fail\")\n",
    "l = [i for i in range(0, 10)]  # a list containing 0 - 9\n",
    "random.shuffle(l)\n",
    "test_random(l)\n",
    "random.shuffle(l)\n",
    "test_random(l)\n",
    "test([5,4,2])\n",
    "test([5])\n",
    "test([])\n",
    "test(None)"
   ]
  },
  {
   "cell_type": "code",
   "execution_count": null,
   "metadata": {},
   "outputs": [],
   "source": []
  }
 ],
 "metadata": {
  "kernelspec": {
   "display_name": "Python 3",
   "language": "python",
   "name": "python3"
  },
  "language_info": {
   "codemirror_mode": {
    "name": "ipython",
    "version": 3
   },
   "file_extension": ".py",
   "mimetype": "text/x-python",
   "name": "python",
   "nbconvert_exporter": "python",
   "pygments_lexer": "ipython3",
   "version": "3.7.3"
  }
 },
 "nbformat": 4,
 "nbformat_minor": 2
}
