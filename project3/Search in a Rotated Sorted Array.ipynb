{
 "cells": [
  {
   "cell_type": "code",
   "execution_count": 12,
   "metadata": {},
   "outputs": [
    {
     "name": "stdout",
     "output_type": "stream",
     "text": [
      "Input List: [6, 7, 8, 9, 10, 1, 2, 3, 4]\n",
      "Pass: number 6 located on index: 0\n",
      "Input List: [6, 7, 8, 9, 10, 1, 2, 3, 4]\n",
      "Pass: number 1 located on index: 5\n",
      "Input List: [6, 7, 8, 1, 2, 3, 4]\n",
      "Pass: number 8 located on index: 2\n",
      "Input List: [6, 7, 8, 1, 2, 3, 4]\n",
      "Pass: number 1 located on index: 3\n",
      "Input List: [6, 7, 8, 1, 2, 3, 4]\n",
      "Pass: number 10 located on index: -1\n",
      "Input List: []\n",
      "Pass: number None located on index: -1\n",
      "Input List: None\n",
      "Pass: number None located on index: -1\n"
     ]
    }
   ],
   "source": [
    "def rotated_array_search(input_list, number):\n",
    "    \"\"\"\n",
    "    Find the index by searching in a rotated sorted array\n",
    "\n",
    "    Args:\n",
    "       input_list(array), number(int): Input array to search and the target\n",
    "    Returns:\n",
    "       int: Index or -1\n",
    "    \"\"\"\n",
    "    if input_list == None:\n",
    "        return -1\n",
    "    first_index = 0\n",
    "    last_index = len(input_list) -1\n",
    "\n",
    "    while last_index >= first_index:\n",
    "        mid = (first_index + last_index) // 2\n",
    "        if input_list[mid] == number:\n",
    "            return mid\n",
    "        elif number < input_list[mid]:\n",
    "            if input_list[first_index] > number:\n",
    "                first_index = mid + 1\n",
    "            else:\n",
    "                last_index = mid - 1\n",
    "        else:\n",
    "            if input_list[last_index] < number:\n",
    "                last_index = mid - 1\n",
    "            else:\n",
    "                first_index = mid + 1\n",
    "    return -1\n",
    "\n",
    "\n",
    "\n",
    "def linear_search(input_list, number):\n",
    "    if input_list == None:\n",
    "        return -1\n",
    "    for index, element in enumerate(input_list):\n",
    "        if element == number:\n",
    "            return index\n",
    "    return -1\n",
    "\n",
    "def test_function(test_case):\n",
    "    input_list = test_case[0]\n",
    "    number = test_case[1]\n",
    "    print(\"Input List: {}\".format(input_list))\n",
    "    if linear_search(input_list, number) == rotated_array_search(input_list, number):\n",
    "        print(\"Pass: number {} located on index: {}\".format(number, linear_search(input_list, number)))\n",
    "    else:\n",
    "        print(\"Fail\")\n",
    "\n",
    "test_function([[6, 7, 8, 9, 10, 1, 2, 3, 4], 6]) #Expected Output: Pass\n",
    "test_function([[6, 7, 8, 9, 10, 1, 2, 3, 4], 1]) #Expected Output: Pass\n",
    "test_function([[6, 7, 8, 1, 2, 3, 4], 8]) #Expected Output: Pass\n",
    "test_function([[6, 7, 8, 1, 2, 3, 4], 1]) #Expected Output: Pass\n",
    "test_function([[6, 7, 8, 1, 2, 3, 4], 10]) #Expected Output: Pass\n",
    "test_function([[], None]) #Expected Output: Pass\n",
    "test_function([None, None]) #Expected Output: Pass"
   ]
  },
  {
   "cell_type": "code",
   "execution_count": null,
   "metadata": {},
   "outputs": [],
   "source": []
  }
 ],
 "metadata": {
  "kernelspec": {
   "display_name": "Python 3",
   "language": "python",
   "name": "python3"
  },
  "language_info": {
   "codemirror_mode": {
    "name": "ipython",
    "version": 3
   },
   "file_extension": ".py",
   "mimetype": "text/x-python",
   "name": "python",
   "nbconvert_exporter": "python",
   "pygments_lexer": "ipython3",
   "version": "3.7.3"
  }
 },
 "nbformat": 4,
 "nbformat_minor": 2
}
