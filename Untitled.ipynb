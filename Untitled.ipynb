{
 "cells": [
  {
   "cell_type": "code",
   "execution_count": 1,
   "metadata": {},
   "outputs": [
    {
     "name": "stdout",
     "output_type": "stream",
     "text": [
      "4\n",
      "9\n",
      "8\n",
      "9\n",
      "14\n"
     ]
    }
   ],
   "source": [
    "bridge_config = [[1, 2, 1], [2, 3, 4], [1, 4, 3], [4, 3, 2], [1, 3, 10]]\n",
    "for a,b,c in bridge_config:\n",
    "    print(a+b+c)\n"
   ]
  },
  {
   "cell_type": "code",
   "execution_count": 3,
   "metadata": {},
   "outputs": [
    {
     "name": "stdout",
     "output_type": "stream",
     "text": [
      "[[], [(2, 1), (4, 3), (3, 10)], [(1, 1), (3, 4)], [(2, 4), (4, 2), (1, 10)], [(1, 3), (3, 2)]]\n"
     ]
    }
   ],
   "source": [
    "   \n",
    "adjacency_list = [list() for _ in range(4 + 1)]\n",
    "bridge_config = [[1, 2, 1], [2, 3, 4], [1, 4, 3], [4, 3, 2], [1, 3, 10]]\n",
    "for config in bridge_config:\n",
    "    source = config[0]\n",
    "    destination = config[1]\n",
    "    cost = config[2]\n",
    "    adjacency_list[source].append((destination, cost))\n",
    "    adjacency_list[destination].append((source, cost))\n",
    "\n",
    "print(adjacency_list) "
   ]
  },
  {
   "cell_type": "code",
   "execution_count": 6,
   "metadata": {},
   "outputs": [
    {
     "data": {
      "text/plain": [
       "[[],\n",
       " [(2, 1), (4, 3), (3, 10)],\n",
       " [(1, 1), (3, 4)],\n",
       " [(2, 4), (4, 2), (1, 10)],\n",
       " [(1, 3), (3, 2)]]"
      ]
     },
     "execution_count": 6,
     "metadata": {},
     "output_type": "execute_result"
    }
   ],
   "source": [
    "def create_graph(num_islands, bridge_config):\n",
    "    adjacency_list =[list() for _ in range(num_islands+1)]\n",
    "    for source, destination, cost in bridge_config:\n",
    "        adjacency_list[source].append((destination, cost))\n",
    "        adjacency_list[destination].append((source, cost))\n",
    "        \n",
    "    return adjacency_list\n",
    "\n",
    "create_graph(4, [[1, 2, 1], [2, 3, 4], [1, 4, 3], [4, 3, 2], [1, 3, 10]])"
   ]
  },
  {
   "cell_type": "code",
   "execution_count": 9,
   "metadata": {},
   "outputs": [],
   "source": [
    "import heapq\n",
    "def minimum_cost(graph):\n",
    "    # start with vertex 1 (any vertex can be chosen)\n",
    "    start_vertex = 1\n",
    "    \n",
    "    # initialize a list to keep track of vertices that are visited\n",
    "    visited = [False for _ in range(len(graph) + 1)]\n",
    "    \n",
    "    # initialize starting list - (edge_cost, neighbor)\n",
    "    heap = [(0, start_vertex)]\n",
    "    total_cost = 0\n",
    "    \n",
    "    while len(heap) > 0:\n",
    "        cost, current_vertex = heapq.heappop(heap)\n",
    "        \n",
    "        # check if current_vertex is already visited\n",
    "        if visited[current_vertex]:\n",
    "            continue\n",
    "        # else add cost to total-cost\n",
    "        total_cost += cost\n",
    "        \n",
    "        for neighbor, cost in graph[current_vertex]:\n",
    "            heapq.heappush(heap, (cost, neighbor))\n",
    "        \n",
    "        visited[current_vertex] = True\n",
    "    return total_cost\n",
    "\n",
    "    "
   ]
  },
  {
   "cell_type": "code",
   "execution_count": 10,
   "metadata": {},
   "outputs": [
    {
     "data": {
      "text/plain": [
       "6"
      ]
     },
     "execution_count": 10,
     "metadata": {},
     "output_type": "execute_result"
    }
   ],
   "source": [
    "graph = create_graph(4, [[1, 2, 1], [2, 3, 4], [1, 4, 3], [4, 3, 2], [1, 3, 10]])\n",
    "minimum_cost(graph)"
   ]
  },
  {
   "cell_type": "code",
   "execution_count": 17,
   "metadata": {},
   "outputs": [
    {
     "name": "stdout",
     "output_type": "stream",
     "text": [
      "[[0, 0, 0, 0, 0], [0, 0, 0, 0, 0], [0, 0, 0, 0, 0]]\n"
     ]
    }
   ],
   "source": [
    "string_a = \"ABCD\"\n",
    "string_b = \"BD\"\n",
    "matrix = [[0 for _ in range(len(string_a)+1)] for _ in range(len(string_b)+1)]\n",
    "print(matrix)"
   ]
  },
  {
   "cell_type": "code",
   "execution_count": null,
   "metadata": {},
   "outputs": [],
   "source": []
  }
 ],
 "metadata": {
  "kernelspec": {
   "display_name": "Python 3",
   "language": "python",
   "name": "python3"
  },
  "language_info": {
   "codemirror_mode": {
    "name": "ipython",
    "version": 3
   },
   "file_extension": ".py",
   "mimetype": "text/x-python",
   "name": "python",
   "nbconvert_exporter": "python",
   "pygments_lexer": "ipython3",
   "version": "3.7.3"
  }
 },
 "nbformat": 4,
 "nbformat_minor": 2
}
